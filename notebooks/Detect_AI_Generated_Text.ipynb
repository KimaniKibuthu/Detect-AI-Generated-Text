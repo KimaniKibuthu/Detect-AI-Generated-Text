{
  "cells": [
    {
      "cell_type": "markdown",
      "metadata": {
        "id": "VATXkTFi-2eO"
      },
      "source": [
        "# Detect AI Generated Text\n",
        "In this challenge, the goal is to determine whether a piece of text is AI generated or not."
      ]
    },
    {
      "cell_type": "markdown",
      "metadata": {
        "id": "pbGgQynG_FYs"
      },
      "source": [
        "# Import the necessary libraries\n",
        "Here, we import the libraries necessary for the challenge."
      ]
    },
    {
      "cell_type": "code",
      "execution_count": 18,
      "metadata": {
        "colab": {
          "base_uri": "https://localhost:8080/"
        },
        "id": "I-kDWMem-q_j",
        "outputId": "2d95515c-6c67-4767-baa1-885afd63d636"
      },
      "outputs": [],
      "source": [
        "# Libraries\n",
        "import joblib\n",
        "import mlflow\n",
        "import numpy as np\n",
        "import pandas as pd\n",
        "import sentencepiece as spm\n",
        "from mlflow.models import infer_signature\n",
        "from sklearn.metrics import classification_report, roc_auc_score, make_scorer, recall_score\n",
        "from sklearn.model_selection import train_test_split, StratifiedKFold, cross_val_score\n",
        "from sklearn.feature_extraction.text import TfidfVectorizer\n",
        "from lightgbm import LGBMClassifier\n",
        "\n",
        "\n"
      ]
    },
    {
      "cell_type": "code",
      "execution_count": 19,
      "metadata": {},
      "outputs": [
        {
          "data": {
            "text/plain": [
              "<Experiment: artifact_location='mlflow-artifacts:/318529209653114071', creation_time=1706007893086, experiment_id='318529209653114071', last_update_time=1706007893086, lifecycle_stage='active', name='detect-ai-text', tags={}>"
            ]
          },
          "execution_count": 19,
          "metadata": {},
          "output_type": "execute_result"
        }
      ],
      "source": [
        "\n",
        "# Setup MLFlow\n",
        "mlflow.set_tracking_uri(\"http://localhost:5000\")\n",
        "mlflow.set_experiment(\"detect-ai-text\")"
      ]
    },
    {
      "cell_type": "markdown",
      "metadata": {
        "id": "Qn1dQHJV_bm7"
      },
      "source": [
        "# Obtain data\n",
        "Here, we obtain the data to train."
      ]
    },
    {
      "cell_type": "code",
      "execution_count": 5,
      "metadata": {
        "id": "NEx70HlMSsxn"
      },
      "outputs": [],
      "source": [
        "# get training data\n",
        "final_augmented_train = pd.read_csv(r\"C:\\Users\\Spectra\\Desktop\\detect_AI_text\\data\\raw\\final_augmented_data.csv\")\n",
        "#test_df = pd.read_csv(\"data/test_essays.csv\")\n",
        "new_data_one = pd.read_csv(r\"C:\\Users\\Spectra\\Desktop\\detect_AI_text\\data\\raw\\train_drcat_01.csv\")\n",
        "new_data_two = pd.read_csv(r\"C:\\Users\\Spectra\\Desktop\\detect_AI_text\\data\\raw\\train_drcat_02.csv\")\n",
        "new_data_three = pd.read_csv(r\"C:\\Users\\Spectra\\Desktop\\detect_AI_text\\data\\raw\\train_drcat_03.csv\")\n",
        "new_data_four = pd.read_csv(r\"C:\\Users\\Spectra\\Desktop\\detect_AI_text\\data\\raw\\train_drcat_04.csv\")\n",
        "augmented_test = pd.read_csv(r\"C:\\Users\\Spectra\\Desktop\\detect_AI_text\\data\\archive (2).zip (Unzipped Files)\\final_test.csv\")"
      ]
    },
    {
      "cell_type": "markdown",
      "metadata": {
        "id": "v7QuAHVphpfD"
      },
      "source": [
        "**Get train data ready**"
      ]
    },
    {
      "cell_type": "code",
      "execution_count": 6,
      "metadata": {
        "id": "IsNX9pPhhxoh"
      },
      "outputs": [],
      "source": [
        "# Rename Columns\n",
        "new_data_four.rename(columns={'label': 'generated'}, inplace=True)\n",
        "new_data_two.rename(columns={'label': 'generated'}, inplace=True)"
      ]
    },
    {
      "cell_type": "code",
      "execution_count": 7,
      "metadata": {
        "colab": {
          "base_uri": "https://localhost:8080/",
          "height": 206
        },
        "id": "iiwvYv8Biolo",
        "outputId": "243416ba-cc75-4cc4-a5e8-e10bd037f79b"
      },
      "outputs": [
        {
          "data": {
            "text/html": [
              "<div>\n",
              "<style scoped>\n",
              "    .dataframe tbody tr th:only-of-type {\n",
              "        vertical-align: middle;\n",
              "    }\n",
              "\n",
              "    .dataframe tbody tr th {\n",
              "        vertical-align: top;\n",
              "    }\n",
              "\n",
              "    .dataframe thead th {\n",
              "        text-align: right;\n",
              "    }\n",
              "</style>\n",
              "<table border=\"1\" class=\"dataframe\">\n",
              "  <thead>\n",
              "    <tr style=\"text-align: right;\">\n",
              "      <th></th>\n",
              "      <th>text</th>\n",
              "      <th>generated</th>\n",
              "    </tr>\n",
              "  </thead>\n",
              "  <tbody>\n",
              "    <tr>\n",
              "      <th>0</th>\n",
              "      <td>Dear Mr. Senator, I have decided to express my...</td>\n",
              "      <td>0</td>\n",
              "    </tr>\n",
              "    <tr>\n",
              "      <th>1</th>\n",
              "      <td>Limiting car usage is advantageous for multip...</td>\n",
              "      <td>1</td>\n",
              "    </tr>\n",
              "    <tr>\n",
              "      <th>2</th>\n",
              "      <td>Limiting car usage is beneficial for a number...</td>\n",
              "      <td>1</td>\n",
              "    </tr>\n",
              "    <tr>\n",
              "      <th>3</th>\n",
              "      <td>\"The day that mankind realizes that their crea...</td>\n",
              "      <td>0</td>\n",
              "    </tr>\n",
              "    <tr>\n",
              "      <th>4</th>\n",
              "      <td>Dear me. Senator, I am fed up with the elector...</td>\n",
              "      <td>0</td>\n",
              "    </tr>\n",
              "  </tbody>\n",
              "</table>\n",
              "</div>"
            ],
            "text/plain": [
              "                                                text  generated\n",
              "0  Dear Mr. Senator, I have decided to express my...          0\n",
              "1   Limiting car usage is advantageous for multip...          1\n",
              "2   Limiting car usage is beneficial for a number...          1\n",
              "3  \"The day that mankind realizes that their crea...          0\n",
              "4  Dear me. Senator, I am fed up with the elector...          0"
            ]
          },
          "execution_count": 7,
          "metadata": {},
          "output_type": "execute_result"
        }
      ],
      "source": [
        "# Concat the data\n",
        "concat_train_df = pd.concat([final_augmented_train,\n",
        "                             new_data_two[[\"text\", \"generated\"]],\n",
        "                             new_data_four[[\"text\", \"generated\"]]], axis=0)\n",
        "\n",
        "concat_train_df.head()"
      ]
    },
    {
      "cell_type": "code",
      "execution_count": 8,
      "metadata": {
        "colab": {
          "base_uri": "https://localhost:8080/",
          "height": 423
        },
        "id": "BO4ZvMnHjE3T",
        "outputId": "1ca3362e-ab9a-4448-eb34-3c8a81f2439a"
      },
      "outputs": [
        {
          "data": {
            "text/html": [
              "<div>\n",
              "<style scoped>\n",
              "    .dataframe tbody tr th:only-of-type {\n",
              "        vertical-align: middle;\n",
              "    }\n",
              "\n",
              "    .dataframe tbody tr th {\n",
              "        vertical-align: top;\n",
              "    }\n",
              "\n",
              "    .dataframe thead th {\n",
              "        text-align: right;\n",
              "    }\n",
              "</style>\n",
              "<table border=\"1\" class=\"dataframe\">\n",
              "  <thead>\n",
              "    <tr style=\"text-align: right;\">\n",
              "      <th></th>\n",
              "      <th>text</th>\n",
              "      <th>generated</th>\n",
              "    </tr>\n",
              "  </thead>\n",
              "  <tbody>\n",
              "    <tr>\n",
              "      <th>0</th>\n",
              "      <td>Dear Mr. Senator, I have decided to express my...</td>\n",
              "      <td>0</td>\n",
              "    </tr>\n",
              "    <tr>\n",
              "      <th>1</th>\n",
              "      <td>Limiting car usage is advantageous for multip...</td>\n",
              "      <td>1</td>\n",
              "    </tr>\n",
              "    <tr>\n",
              "      <th>2</th>\n",
              "      <td>Limiting car usage is beneficial for a number...</td>\n",
              "      <td>1</td>\n",
              "    </tr>\n",
              "    <tr>\n",
              "      <th>3</th>\n",
              "      <td>\"The day that mankind realizes that their crea...</td>\n",
              "      <td>0</td>\n",
              "    </tr>\n",
              "    <tr>\n",
              "      <th>4</th>\n",
              "      <td>Dear me. Senator, I am fed up with the elector...</td>\n",
              "      <td>0</td>\n",
              "    </tr>\n",
              "    <tr>\n",
              "      <th>...</th>\n",
              "      <td>...</td>\n",
              "      <td>...</td>\n",
              "    </tr>\n",
              "    <tr>\n",
              "      <th>44131</th>\n",
              "      <td>Looking for some fun activities to do at the ...</td>\n",
              "      <td>1</td>\n",
              "    </tr>\n",
              "    <tr>\n",
              "      <th>44142</th>\n",
              "      <td>The school administration has recently announ...</td>\n",
              "      <td>1</td>\n",
              "    </tr>\n",
              "    <tr>\n",
              "      <th>44144</th>\n",
              "      <td>\\nSeeking advice from more than one person whe...</td>\n",
              "      <td>1</td>\n",
              "    </tr>\n",
              "    <tr>\n",
              "      <th>44160</th>\n",
              "      <td>While the Facial Action Coding System technolo...</td>\n",
              "      <td>1</td>\n",
              "    </tr>\n",
              "    <tr>\n",
              "      <th>44197</th>\n",
              "      <td>The Seagoing Cowboys program is an amazing opp...</td>\n",
              "      <td>1</td>\n",
              "    </tr>\n",
              "  </tbody>\n",
              "</table>\n",
              "<p>137988 rows × 2 columns</p>\n",
              "</div>"
            ],
            "text/plain": [
              "                                                    text  generated\n",
              "0      Dear Mr. Senator, I have decided to express my...          0\n",
              "1       Limiting car usage is advantageous for multip...          1\n",
              "2       Limiting car usage is beneficial for a number...          1\n",
              "3      \"The day that mankind realizes that their crea...          0\n",
              "4      Dear me. Senator, I am fed up with the elector...          0\n",
              "...                                                  ...        ...\n",
              "44131   Looking for some fun activities to do at the ...          1\n",
              "44142   The school administration has recently announ...          1\n",
              "44144  \\nSeeking advice from more than one person whe...          1\n",
              "44160  While the Facial Action Coding System technolo...          1\n",
              "44197  The Seagoing Cowboys program is an amazing opp...          1\n",
              "\n",
              "[137988 rows x 2 columns]"
            ]
          },
          "execution_count": 8,
          "metadata": {},
          "output_type": "execute_result"
        }
      ],
      "source": [
        "# Drop duplicates\n",
        "concat_train_df.drop_duplicates(subset=[\"text\"])"
      ]
    },
    {
      "cell_type": "code",
      "execution_count": 20,
      "metadata": {},
      "outputs": [],
      "source": [
        "exp_train_data = concat_train_df.sample(2000)\n",
        "exp_train_data.reset_index(drop=True, inplace=True)\n",
        "exp_train_data.to_csv(r\"C:\\Users\\Spectra\\Desktop\\detect_AI_text\\data\\interim\\exp_train.csv\", index=False)"
      ]
    },
    {
      "cell_type": "code",
      "execution_count": 11,
      "metadata": {},
      "outputs": [],
      "source": [
        "# Save the training data\n",
        "concat_train_df.to_csv(r\"C:\\Users\\Spectra\\Desktop\\detect_AI_text\\data\\interim\\train.csv\", index=False)"
      ]
    },
    {
      "cell_type": "code",
      "execution_count": 12,
      "metadata": {
        "id": "izgVo6QejaqH"
      },
      "outputs": [],
      "source": [
        "# Sample training data\n",
        "sampled_train_df, _ = train_test_split(concat_train_df,\n",
        "                                       test_size=(len(concat_train_df) - 100000) / len(concat_train_df),\n",
        "                                       stratify=concat_train_df[\"generated\"],\n",
        "                                       random_state=42)"
      ]
    },
    {
      "cell_type": "markdown",
      "metadata": {
        "id": "tkXd_TfFkMOx"
      },
      "source": [
        "**Sample Test Data**"
      ]
    },
    {
      "cell_type": "code",
      "execution_count": 13,
      "metadata": {
        "id": "rkvkOlH0kPEY"
      },
      "outputs": [],
      "source": [
        "# Rename columns\n",
        "new_data_three.rename(columns={'label': 'generated'}, inplace=True)\n",
        "new_data_one.rename(columns={'label': 'generated'}, inplace=True)\n",
        "augmented_test.rename(columns={'label': 'generated'}, inplace=True)"
      ]
    },
    {
      "cell_type": "code",
      "execution_count": 14,
      "metadata": {
        "colab": {
          "base_uri": "https://localhost:8080/",
          "height": 423
        },
        "id": "8uZk5hAKkYsu",
        "outputId": "e69a81d8-8521-4a5d-d526-a8829be25b80"
      },
      "outputs": [],
      "source": [
        "# Concat the data\n",
        "concat_eval_df = pd.concat([augmented_test,\n",
        "                             new_data_one[[\"text\", \"generated\"]],\n",
        "                             new_data_three[[\"text\", \"generated\"]]], axis=0)\n",
        "\n"
      ]
    },
    {
      "cell_type": "code",
      "execution_count": null,
      "metadata": {},
      "outputs": [],
      "source": [
        "exp_eval_data = concat_eval_df.sample(2000)\n",
        "exp_eval_data.reset_index(drop=True, inplace=True)\n",
        "exp_eval_data.to_csv(r\"C:\\Users\\Spectra\\Desktop\\detect_AI_text\\data\\interim\\exp_eval.csv\", index=False)"
      ]
    },
    {
      "cell_type": "code",
      "execution_count": 15,
      "metadata": {
        "colab": {
          "base_uri": "https://localhost:8080/",
          "height": 423
        },
        "id": "-Tz9QSktkd-j",
        "outputId": "8e19e1b4-40b2-4f65-93b6-3132ee0d852a"
      },
      "outputs": [
        {
          "data": {
            "text/html": [
              "<div>\n",
              "<style scoped>\n",
              "    .dataframe tbody tr th:only-of-type {\n",
              "        vertical-align: middle;\n",
              "    }\n",
              "\n",
              "    .dataframe tbody tr th {\n",
              "        vertical-align: top;\n",
              "    }\n",
              "\n",
              "    .dataframe thead th {\n",
              "        text-align: right;\n",
              "    }\n",
              "</style>\n",
              "<table border=\"1\" class=\"dataframe\">\n",
              "  <thead>\n",
              "    <tr style=\"text-align: right;\">\n",
              "      <th></th>\n",
              "      <th>text</th>\n",
              "      <th>generated</th>\n",
              "    </tr>\n",
              "  </thead>\n",
              "  <tbody>\n",
              "    <tr>\n",
              "      <th>0</th>\n",
              "      <td>The Face on Mars is nothing but a natural occu...</td>\n",
              "      <td>0</td>\n",
              "    </tr>\n",
              "    <tr>\n",
              "      <th>1</th>\n",
              "      <td>Students have a higher chance of catching a vi...</td>\n",
              "      <td>0</td>\n",
              "    </tr>\n",
              "    <tr>\n",
              "      <th>2</th>\n",
              "      <td>Driverless cars have good and bad things that ...</td>\n",
              "      <td>0</td>\n",
              "    </tr>\n",
              "    <tr>\n",
              "      <th>3</th>\n",
              "      <td>Some people might think that traveling in a gr...</td>\n",
              "      <td>1</td>\n",
              "    </tr>\n",
              "    <tr>\n",
              "      <th>4</th>\n",
              "      <td>How many of us students want to be forced to d...</td>\n",
              "      <td>0</td>\n",
              "    </tr>\n",
              "    <tr>\n",
              "      <th>...</th>\n",
              "      <td>...</td>\n",
              "      <td>...</td>\n",
              "    </tr>\n",
              "    <tr>\n",
              "      <th>42190</th>\n",
              "      <td>I think our principal's idea of making us do e...</td>\n",
              "      <td>1</td>\n",
              "    </tr>\n",
              "    <tr>\n",
              "      <th>42191</th>\n",
              "      <td>I think it's a good idea for schools to have o...</td>\n",
              "      <td>1</td>\n",
              "    </tr>\n",
              "    <tr>\n",
              "      <th>42196</th>\n",
              "      <td>Students often debate whether inactivity or s...</td>\n",
              "      <td>1</td>\n",
              "    </tr>\n",
              "    <tr>\n",
              "      <th>42199</th>\n",
              "      <td>Advantages of Limiting Car Usage\\n\\nLimiting c...</td>\n",
              "      <td>1</td>\n",
              "    </tr>\n",
              "    <tr>\n",
              "      <th>42203</th>\n",
              "      <td>The Face on Mars is a fascinating phenomenon t...</td>\n",
              "      <td>1</td>\n",
              "    </tr>\n",
              "  </tbody>\n",
              "</table>\n",
              "<p>127344 rows × 2 columns</p>\n",
              "</div>"
            ],
            "text/plain": [
              "                                                    text  generated\n",
              "0      The Face on Mars is nothing but a natural occu...          0\n",
              "1      Students have a higher chance of catching a vi...          0\n",
              "2      Driverless cars have good and bad things that ...          0\n",
              "3      Some people might think that traveling in a gr...          1\n",
              "4      How many of us students want to be forced to d...          0\n",
              "...                                                  ...        ...\n",
              "42190  I think our principal's idea of making us do e...          1\n",
              "42191  I think it's a good idea for schools to have o...          1\n",
              "42196   Students often debate whether inactivity or s...          1\n",
              "42199  Advantages of Limiting Car Usage\\n\\nLimiting c...          1\n",
              "42203  The Face on Mars is a fascinating phenomenon t...          1\n",
              "\n",
              "[127344 rows x 2 columns]"
            ]
          },
          "execution_count": 15,
          "metadata": {},
          "output_type": "execute_result"
        }
      ],
      "source": [
        "# Drop duplicates\n",
        "concat_eval_df.drop_duplicates(subset=[\"text\"])"
      ]
    },
    {
      "cell_type": "code",
      "execution_count": 17,
      "metadata": {},
      "outputs": [],
      "source": [
        "# Save the data\n",
        "concat_eval_df.to_csv(r\"C:\\Users\\Spectra\\Desktop\\detect_AI_text\\data\\interim\\eval.csv\", index=False)"
      ]
    },
    {
      "cell_type": "code",
      "execution_count": 13,
      "metadata": {
        "id": "dzdHsm4xkwIA"
      },
      "outputs": [],
      "source": [
        "# Create sample evaluation set\n",
        "sampled_eval_df, _ = train_test_split(concat_eval_df,\n",
        "                                       test_size=(len(concat_eval_df) - 20000) / len(concat_eval_df),\n",
        "                                       stratify=concat_eval_df[\"generated\"],\n",
        "                                       random_state=42)"
      ]
    },
    {
      "cell_type": "code",
      "execution_count": 14,
      "metadata": {
        "id": "p_ePdM7hlJNU"
      },
      "outputs": [],
      "source": [
        "# Reset its index\n",
        "sampled_eval_df.reset_index(drop=True, inplace=True)"
      ]
    },
    {
      "cell_type": "code",
      "execution_count": 15,
      "metadata": {
        "id": "7AMrspwFlYu5"
      },
      "outputs": [],
      "source": [
        "# Split the evaluation dataset into validation and test datasets\n",
        "val_df, test_df = train_test_split(sampled_eval_df,\n",
        "                                test_size=0.5,\n",
        "                                stratify=sampled_eval_df[\"generated\"],\n",
        "                                random_state=42)\n"
      ]
    },
    {
      "cell_type": "code",
      "execution_count": 4,
      "metadata": {},
      "outputs": [
        {
          "ename": "NameError",
          "evalue": "name 'val_df' is not defined",
          "output_type": "error",
          "traceback": [
            "\u001b[1;31m---------------------------------------------------------------------------\u001b[0m",
            "\u001b[1;31mNameError\u001b[0m                                 Traceback (most recent call last)",
            "Cell \u001b[1;32mIn[4], line 1\u001b[0m\n\u001b[1;32m----> 1\u001b[0m val_df\n",
            "\u001b[1;31mNameError\u001b[0m: name 'val_df' is not defined"
          ]
        }
      ],
      "source": [
        "val_df"
      ]
    },
    {
      "cell_type": "markdown",
      "metadata": {
        "id": "NmwOL9Lcl9DM"
      },
      "source": [
        "# Preprocess text"
      ]
    },
    {
      "cell_type": "markdown",
      "metadata": {},
      "source": [
        "**Train Tokenizer**"
      ]
    },
    {
      "cell_type": "code",
      "execution_count": 16,
      "metadata": {},
      "outputs": [],
      "source": [
        "# Create dataset to train sentence piece tokenizer\n",
        "train_sentpiece_df = pd.concat([test_df[\"text\"], concat_train_df[\"text\"]])\n",
        "train_sentpiece_df.reset_index(drop=True, inplace=True)"
      ]
    },
    {
      "cell_type": "code",
      "execution_count": 22,
      "metadata": {
        "id": "wy8LqVQxmAG5"
      },
      "outputs": [],
      "source": [
        "# Train sentence piece model\n",
        "\n",
        "import sentencepiece as spm\n",
        " \n",
        "# Write text data to a text file for SentencePiece training\n",
        "with open('sentpiece_train.txt', 'w', encoding='utf-8') as file:\n",
        "    for text in train_sentpiece_df:\n",
        "        file.write(text + '\\n')\n",
        "\n",
        "# Train SentencePiece model\n",
        "spm.SentencePieceTrainer.train(input='data/sentpiece_train.txt', model_prefix='data/sentpiece_model', vocab_size=30522)\n"
      ]
    },
    {
      "cell_type": "code",
      "execution_count": 17,
      "metadata": {
        "id": "w82a1P57YATb"
      },
      "outputs": [],
      "source": [
        "def get_tokenized_text(df, tok_model_path):\n",
        "  sp = spm.SentencePieceProcessor()\n",
        "  sp.Load(tok_model_path)\n",
        "  # Tokenize text using SentencePiece\n",
        "  df['tokens'] = df['text'].apply(lambda x: sp.EncodeAsPieces(x.lower()))\n",
        "  # Convert SentencePiece tokens to text for XGBoost\n",
        "  df['text_spm'] = df['tokens'].apply(lambda x: ' '.join(x))\n",
        "  return df\n"
      ]
    },
    {
      "cell_type": "code",
      "execution_count": 18,
      "metadata": {
        "id": "i0buINddZkD7"
      },
      "outputs": [],
      "source": [
        "#tokenized_train_one_df = get_tokenized_text(train_set_one, \"sentpiece_model.model\")\n",
        "#tokenized_train_two_df = get_tokenized_text(train_set_two, \"sentpiece_model.model\")\n",
        "#tokenized_train_three_df = get_tokenized_text(train_set_three, \"sentpiece_model.model\")\n",
        "tokenized_eval_df = get_tokenized_text(val_df, \"data/sentpiece_model.model\")\n",
        "tokenized_test_df = get_tokenized_text(test_df, \"data/sentpiece_model.model\")\n",
        "tokenized_main_train_df = get_tokenized_text(sampled_train_df, \"data/sentpiece_model.model\")"
      ]
    },
    {
      "cell_type": "markdown",
      "metadata": {},
      "source": [
        "**Train Vectorizer**"
      ]
    },
    {
      "cell_type": "code",
      "execution_count": 19,
      "metadata": {
        "id": "Zh0Invy2Z6ew"
      },
      "outputs": [],
      "source": [
        "\n",
        "vectorizer = TfidfVectorizer(ngram_range=(3, 5), \n",
        "                             sublinear_tf=True,\n",
        "                             lowercase=False,\n",
        "                             max_features=5000)\n",
        "\n",
        "\n",
        "X_train_main = vectorizer.fit_transform(tokenized_main_train_df[\"text_spm\"])\n",
        "y_train_main = tokenized_main_train_df[\"generated\"]\n",
        "X_val = vectorizer.transform(tokenized_eval_df[\"text_spm\"])\n",
        "y_val = tokenized_eval_df[\"generated\"]\n",
        "X_test = vectorizer.transform(tokenized_eval_df[\"text_spm\"])\n",
        "y_test = tokenized_test_df[\"generated\"]\n",
        "\n"
      ]
    },
    {
      "cell_type": "code",
      "execution_count": 20,
      "metadata": {},
      "outputs": [
        {
          "data": {
            "text/plain": [
              "['data/vectorizer.pkl']"
            ]
          },
          "execution_count": 20,
          "metadata": {},
          "output_type": "execute_result"
        }
      ],
      "source": [
        "# Save the vectorizer\n",
        "joblib.dump(vectorizer, \"data/vectorizer.pkl\")"
      ]
    },
    {
      "cell_type": "markdown",
      "metadata": {
        "id": "L_EH4EmCfMyD"
      },
      "source": [
        "# Modelling\n",
        "\n",
        "## Modelling with LGBM"
      ]
    },
    {
      "cell_type": "markdown",
      "metadata": {},
      "source": [
        "**Hyperparameter tune LGBM**"
      ]
    },
    {
      "cell_type": "code",
      "execution_count": null,
      "metadata": {},
      "outputs": [
        {
          "name": "stdout",
          "output_type": "stream",
          "text": [
            "  0%|          | 0/50 [00:00<?, ?trial/s, best loss=?]"
          ]
        },
        {
          "name": "stderr",
          "output_type": "stream",
          "text": [
            "c:\\Users\\Spectra\\anaconda3\\Lib\\site-packages\\_distutils_hack\\__init__.py:33: UserWarning: Setuptools is replacing distutils.\n",
            "  warnings.warn(\"Setuptools is replacing distutils.\")\n",
            "\n"
          ]
        },
        {
          "name": "stdout",
          "output_type": "stream",
          "text": [
            " 52%|█████▏    | 26/50 [45:04<1:01:47, 154.49s/trial, best loss: -0.9576689687005819]"
          ]
        },
        {
          "name": "stderr",
          "output_type": "stream",
          "text": [
            "job exception: API request to http://localhost:5000/api/2.0/mlflow-artifacts/artifacts/434808567354833662/9ed5e5e21bf24c1881e420a6d399d680/artifacts/vectorizer.pkl failed with exception HTTPConnectionPool(host='localhost', port=5000): Max retries exceeded with url: /api/2.0/mlflow-artifacts/artifacts/434808567354833662/9ed5e5e21bf24c1881e420a6d399d680/artifacts/vectorizer.pkl (Caused by ResponseError('too many 500 error responses'))\n",
            "\n"
          ]
        },
        {
          "name": "stdout",
          "output_type": "stream",
          "text": [
            " 52%|█████▏    | 26/50 [47:06<43:29, 108.73s/trial, best loss: -0.9576689687005819]  \n"
          ]
        },
        {
          "ename": "MlflowException",
          "evalue": "API request to http://localhost:5000/api/2.0/mlflow-artifacts/artifacts/434808567354833662/9ed5e5e21bf24c1881e420a6d399d680/artifacts/vectorizer.pkl failed with exception HTTPConnectionPool(host='localhost', port=5000): Max retries exceeded with url: /api/2.0/mlflow-artifacts/artifacts/434808567354833662/9ed5e5e21bf24c1881e420a6d399d680/artifacts/vectorizer.pkl (Caused by ResponseError('too many 500 error responses'))",
          "output_type": "error",
          "traceback": [
            "\u001b[1;31m---------------------------------------------------------------------------\u001b[0m",
            "\u001b[1;31mMaxRetryError\u001b[0m                             Traceback (most recent call last)",
            "File \u001b[1;32mc:\\Users\\Spectra\\anaconda3\\Lib\\site-packages\\requests\\adapters.py:486\u001b[0m, in \u001b[0;36mHTTPAdapter.send\u001b[1;34m(self, request, stream, timeout, verify, cert, proxies)\u001b[0m\n\u001b[0;32m    485\u001b[0m \u001b[38;5;28;01mtry\u001b[39;00m:\n\u001b[1;32m--> 486\u001b[0m     resp \u001b[38;5;241m=\u001b[39m conn\u001b[38;5;241m.\u001b[39murlopen(\n\u001b[0;32m    487\u001b[0m         method\u001b[38;5;241m=\u001b[39mrequest\u001b[38;5;241m.\u001b[39mmethod,\n\u001b[0;32m    488\u001b[0m         url\u001b[38;5;241m=\u001b[39murl,\n\u001b[0;32m    489\u001b[0m         body\u001b[38;5;241m=\u001b[39mrequest\u001b[38;5;241m.\u001b[39mbody,\n\u001b[0;32m    490\u001b[0m         headers\u001b[38;5;241m=\u001b[39mrequest\u001b[38;5;241m.\u001b[39mheaders,\n\u001b[0;32m    491\u001b[0m         redirect\u001b[38;5;241m=\u001b[39m\u001b[38;5;28;01mFalse\u001b[39;00m,\n\u001b[0;32m    492\u001b[0m         assert_same_host\u001b[38;5;241m=\u001b[39m\u001b[38;5;28;01mFalse\u001b[39;00m,\n\u001b[0;32m    493\u001b[0m         preload_content\u001b[38;5;241m=\u001b[39m\u001b[38;5;28;01mFalse\u001b[39;00m,\n\u001b[0;32m    494\u001b[0m         decode_content\u001b[38;5;241m=\u001b[39m\u001b[38;5;28;01mFalse\u001b[39;00m,\n\u001b[0;32m    495\u001b[0m         retries\u001b[38;5;241m=\u001b[39m\u001b[38;5;28mself\u001b[39m\u001b[38;5;241m.\u001b[39mmax_retries,\n\u001b[0;32m    496\u001b[0m         timeout\u001b[38;5;241m=\u001b[39mtimeout,\n\u001b[0;32m    497\u001b[0m         chunked\u001b[38;5;241m=\u001b[39mchunked,\n\u001b[0;32m    498\u001b[0m     )\n\u001b[0;32m    500\u001b[0m \u001b[38;5;28;01mexcept\u001b[39;00m (ProtocolError, \u001b[38;5;167;01mOSError\u001b[39;00m) \u001b[38;5;28;01mas\u001b[39;00m err:\n",
            "File \u001b[1;32mc:\\Users\\Spectra\\anaconda3\\Lib\\site-packages\\urllib3\\connectionpool.py:889\u001b[0m, in \u001b[0;36mHTTPConnectionPool.urlopen\u001b[1;34m(self, method, url, body, headers, retries, redirect, assert_same_host, timeout, pool_timeout, release_conn, chunked, body_pos, **response_kw)\u001b[0m\n\u001b[0;32m    888\u001b[0m     log\u001b[38;5;241m.\u001b[39mdebug(\u001b[38;5;124m\"\u001b[39m\u001b[38;5;124mRetry: \u001b[39m\u001b[38;5;132;01m%s\u001b[39;00m\u001b[38;5;124m\"\u001b[39m, url)\n\u001b[1;32m--> 889\u001b[0m     \u001b[38;5;28;01mreturn\u001b[39;00m \u001b[38;5;28mself\u001b[39m\u001b[38;5;241m.\u001b[39murlopen(\n\u001b[0;32m    890\u001b[0m         method,\n\u001b[0;32m    891\u001b[0m         url,\n\u001b[0;32m    892\u001b[0m         body,\n\u001b[0;32m    893\u001b[0m         headers,\n\u001b[0;32m    894\u001b[0m         retries\u001b[38;5;241m=\u001b[39mretries,\n\u001b[0;32m    895\u001b[0m         redirect\u001b[38;5;241m=\u001b[39mredirect,\n\u001b[0;32m    896\u001b[0m         assert_same_host\u001b[38;5;241m=\u001b[39massert_same_host,\n\u001b[0;32m    897\u001b[0m         timeout\u001b[38;5;241m=\u001b[39mtimeout,\n\u001b[0;32m    898\u001b[0m         pool_timeout\u001b[38;5;241m=\u001b[39mpool_timeout,\n\u001b[0;32m    899\u001b[0m         release_conn\u001b[38;5;241m=\u001b[39mrelease_conn,\n\u001b[0;32m    900\u001b[0m         chunked\u001b[38;5;241m=\u001b[39mchunked,\n\u001b[0;32m    901\u001b[0m         body_pos\u001b[38;5;241m=\u001b[39mbody_pos,\n\u001b[0;32m    902\u001b[0m         \u001b[38;5;241m*\u001b[39m\u001b[38;5;241m*\u001b[39mresponse_kw\n\u001b[0;32m    903\u001b[0m     )\n\u001b[0;32m    905\u001b[0m \u001b[38;5;28;01mreturn\u001b[39;00m response\n",
            "File \u001b[1;32mc:\\Users\\Spectra\\anaconda3\\Lib\\site-packages\\urllib3\\connectionpool.py:889\u001b[0m, in \u001b[0;36mHTTPConnectionPool.urlopen\u001b[1;34m(self, method, url, body, headers, retries, redirect, assert_same_host, timeout, pool_timeout, release_conn, chunked, body_pos, **response_kw)\u001b[0m\n\u001b[0;32m    888\u001b[0m     log\u001b[38;5;241m.\u001b[39mdebug(\u001b[38;5;124m\"\u001b[39m\u001b[38;5;124mRetry: \u001b[39m\u001b[38;5;132;01m%s\u001b[39;00m\u001b[38;5;124m\"\u001b[39m, url)\n\u001b[1;32m--> 889\u001b[0m     \u001b[38;5;28;01mreturn\u001b[39;00m \u001b[38;5;28mself\u001b[39m\u001b[38;5;241m.\u001b[39murlopen(\n\u001b[0;32m    890\u001b[0m         method,\n\u001b[0;32m    891\u001b[0m         url,\n\u001b[0;32m    892\u001b[0m         body,\n\u001b[0;32m    893\u001b[0m         headers,\n\u001b[0;32m    894\u001b[0m         retries\u001b[38;5;241m=\u001b[39mretries,\n\u001b[0;32m    895\u001b[0m         redirect\u001b[38;5;241m=\u001b[39mredirect,\n\u001b[0;32m    896\u001b[0m         assert_same_host\u001b[38;5;241m=\u001b[39massert_same_host,\n\u001b[0;32m    897\u001b[0m         timeout\u001b[38;5;241m=\u001b[39mtimeout,\n\u001b[0;32m    898\u001b[0m         pool_timeout\u001b[38;5;241m=\u001b[39mpool_timeout,\n\u001b[0;32m    899\u001b[0m         release_conn\u001b[38;5;241m=\u001b[39mrelease_conn,\n\u001b[0;32m    900\u001b[0m         chunked\u001b[38;5;241m=\u001b[39mchunked,\n\u001b[0;32m    901\u001b[0m         body_pos\u001b[38;5;241m=\u001b[39mbody_pos,\n\u001b[0;32m    902\u001b[0m         \u001b[38;5;241m*\u001b[39m\u001b[38;5;241m*\u001b[39mresponse_kw\n\u001b[0;32m    903\u001b[0m     )\n\u001b[0;32m    905\u001b[0m \u001b[38;5;28;01mreturn\u001b[39;00m response\n",
            "    \u001b[1;31m[... skipping similar frames: HTTPConnectionPool.urlopen at line 889 (2 times)]\u001b[0m\n",
            "File \u001b[1;32mc:\\Users\\Spectra\\anaconda3\\Lib\\site-packages\\urllib3\\connectionpool.py:889\u001b[0m, in \u001b[0;36mHTTPConnectionPool.urlopen\u001b[1;34m(self, method, url, body, headers, retries, redirect, assert_same_host, timeout, pool_timeout, release_conn, chunked, body_pos, **response_kw)\u001b[0m\n\u001b[0;32m    888\u001b[0m     log\u001b[38;5;241m.\u001b[39mdebug(\u001b[38;5;124m\"\u001b[39m\u001b[38;5;124mRetry: \u001b[39m\u001b[38;5;132;01m%s\u001b[39;00m\u001b[38;5;124m\"\u001b[39m, url)\n\u001b[1;32m--> 889\u001b[0m     \u001b[38;5;28;01mreturn\u001b[39;00m \u001b[38;5;28mself\u001b[39m\u001b[38;5;241m.\u001b[39murlopen(\n\u001b[0;32m    890\u001b[0m         method,\n\u001b[0;32m    891\u001b[0m         url,\n\u001b[0;32m    892\u001b[0m         body,\n\u001b[0;32m    893\u001b[0m         headers,\n\u001b[0;32m    894\u001b[0m         retries\u001b[38;5;241m=\u001b[39mretries,\n\u001b[0;32m    895\u001b[0m         redirect\u001b[38;5;241m=\u001b[39mredirect,\n\u001b[0;32m    896\u001b[0m         assert_same_host\u001b[38;5;241m=\u001b[39massert_same_host,\n\u001b[0;32m    897\u001b[0m         timeout\u001b[38;5;241m=\u001b[39mtimeout,\n\u001b[0;32m    898\u001b[0m         pool_timeout\u001b[38;5;241m=\u001b[39mpool_timeout,\n\u001b[0;32m    899\u001b[0m         release_conn\u001b[38;5;241m=\u001b[39mrelease_conn,\n\u001b[0;32m    900\u001b[0m         chunked\u001b[38;5;241m=\u001b[39mchunked,\n\u001b[0;32m    901\u001b[0m         body_pos\u001b[38;5;241m=\u001b[39mbody_pos,\n\u001b[0;32m    902\u001b[0m         \u001b[38;5;241m*\u001b[39m\u001b[38;5;241m*\u001b[39mresponse_kw\n\u001b[0;32m    903\u001b[0m     )\n\u001b[0;32m    905\u001b[0m \u001b[38;5;28;01mreturn\u001b[39;00m response\n",
            "File \u001b[1;32mc:\\Users\\Spectra\\anaconda3\\Lib\\site-packages\\urllib3\\connectionpool.py:879\u001b[0m, in \u001b[0;36mHTTPConnectionPool.urlopen\u001b[1;34m(self, method, url, body, headers, retries, redirect, assert_same_host, timeout, pool_timeout, release_conn, chunked, body_pos, **response_kw)\u001b[0m\n\u001b[0;32m    878\u001b[0m \u001b[38;5;28;01mtry\u001b[39;00m:\n\u001b[1;32m--> 879\u001b[0m     retries \u001b[38;5;241m=\u001b[39m retries\u001b[38;5;241m.\u001b[39mincrement(method, url, response\u001b[38;5;241m=\u001b[39mresponse, _pool\u001b[38;5;241m=\u001b[39m\u001b[38;5;28mself\u001b[39m)\n\u001b[0;32m    880\u001b[0m \u001b[38;5;28;01mexcept\u001b[39;00m MaxRetryError:\n",
            "File \u001b[1;32mc:\\Users\\Spectra\\anaconda3\\Lib\\site-packages\\urllib3\\util\\retry.py:592\u001b[0m, in \u001b[0;36mRetry.increment\u001b[1;34m(self, method, url, response, error, _pool, _stacktrace)\u001b[0m\n\u001b[0;32m    591\u001b[0m \u001b[38;5;28;01mif\u001b[39;00m new_retry\u001b[38;5;241m.\u001b[39mis_exhausted():\n\u001b[1;32m--> 592\u001b[0m     \u001b[38;5;28;01mraise\u001b[39;00m MaxRetryError(_pool, url, error \u001b[38;5;129;01mor\u001b[39;00m ResponseError(cause))\n\u001b[0;32m    594\u001b[0m log\u001b[38;5;241m.\u001b[39mdebug(\u001b[38;5;124m\"\u001b[39m\u001b[38;5;124mIncremented Retry for (url=\u001b[39m\u001b[38;5;124m'\u001b[39m\u001b[38;5;132;01m%s\u001b[39;00m\u001b[38;5;124m'\u001b[39m\u001b[38;5;124m): \u001b[39m\u001b[38;5;132;01m%r\u001b[39;00m\u001b[38;5;124m\"\u001b[39m, url, new_retry)\n",
            "\u001b[1;31mMaxRetryError\u001b[0m: HTTPConnectionPool(host='localhost', port=5000): Max retries exceeded with url: /api/2.0/mlflow-artifacts/artifacts/434808567354833662/9ed5e5e21bf24c1881e420a6d399d680/artifacts/vectorizer.pkl (Caused by ResponseError('too many 500 error responses'))",
            "\nDuring handling of the above exception, another exception occurred:\n",
            "\u001b[1;31mRetryError\u001b[0m                                Traceback (most recent call last)",
            "File \u001b[1;32mc:\\Users\\Spectra\\anaconda3\\Lib\\site-packages\\mlflow\\utils\\rest_utils.py:107\u001b[0m, in \u001b[0;36mhttp_request\u001b[1;34m(host_creds, endpoint, method, max_retries, backoff_factor, backoff_jitter, extra_headers, retry_codes, timeout, raise_on_status, **kwargs)\u001b[0m\n\u001b[0;32m    106\u001b[0m \u001b[38;5;28;01mtry\u001b[39;00m:\n\u001b[1;32m--> 107\u001b[0m     \u001b[38;5;28;01mreturn\u001b[39;00m _get_http_response_with_retries(\n\u001b[0;32m    108\u001b[0m         method,\n\u001b[0;32m    109\u001b[0m         url,\n\u001b[0;32m    110\u001b[0m         max_retries,\n\u001b[0;32m    111\u001b[0m         backoff_factor,\n\u001b[0;32m    112\u001b[0m         backoff_jitter,\n\u001b[0;32m    113\u001b[0m         retry_codes,\n\u001b[0;32m    114\u001b[0m         raise_on_status,\n\u001b[0;32m    115\u001b[0m         headers\u001b[38;5;241m=\u001b[39mheaders,\n\u001b[0;32m    116\u001b[0m         verify\u001b[38;5;241m=\u001b[39mhost_creds\u001b[38;5;241m.\u001b[39mverify,\n\u001b[0;32m    117\u001b[0m         timeout\u001b[38;5;241m=\u001b[39mtimeout,\n\u001b[0;32m    118\u001b[0m         \u001b[38;5;241m*\u001b[39m\u001b[38;5;241m*\u001b[39mkwargs,\n\u001b[0;32m    119\u001b[0m     )\n\u001b[0;32m    120\u001b[0m \u001b[38;5;28;01mexcept\u001b[39;00m requests\u001b[38;5;241m.\u001b[39mexceptions\u001b[38;5;241m.\u001b[39mTimeout \u001b[38;5;28;01mas\u001b[39;00m to:\n",
            "File \u001b[1;32mc:\\Users\\Spectra\\anaconda3\\Lib\\site-packages\\mlflow\\utils\\request_utils.py:197\u001b[0m, in \u001b[0;36m_get_http_response_with_retries\u001b[1;34m(method, url, max_retries, backoff_factor, backoff_jitter, retry_codes, raise_on_status, allow_redirects, **kwargs)\u001b[0m\n\u001b[0;32m    195\u001b[0m allow_redirects \u001b[38;5;241m=\u001b[39m env_value \u001b[38;5;28;01mif\u001b[39;00m allow_redirects \u001b[38;5;129;01mis\u001b[39;00m \u001b[38;5;28;01mNone\u001b[39;00m \u001b[38;5;28;01melse\u001b[39;00m allow_redirects\n\u001b[1;32m--> 197\u001b[0m \u001b[38;5;28;01mreturn\u001b[39;00m session\u001b[38;5;241m.\u001b[39mrequest(method, url, allow_redirects\u001b[38;5;241m=\u001b[39mallow_redirects, \u001b[38;5;241m*\u001b[39m\u001b[38;5;241m*\u001b[39mkwargs)\n",
            "File \u001b[1;32mc:\\Users\\Spectra\\anaconda3\\Lib\\site-packages\\requests\\sessions.py:589\u001b[0m, in \u001b[0;36mSession.request\u001b[1;34m(self, method, url, params, data, headers, cookies, files, auth, timeout, allow_redirects, proxies, hooks, stream, verify, cert, json)\u001b[0m\n\u001b[0;32m    588\u001b[0m send_kwargs\u001b[38;5;241m.\u001b[39mupdate(settings)\n\u001b[1;32m--> 589\u001b[0m resp \u001b[38;5;241m=\u001b[39m \u001b[38;5;28mself\u001b[39m\u001b[38;5;241m.\u001b[39msend(prep, \u001b[38;5;241m*\u001b[39m\u001b[38;5;241m*\u001b[39msend_kwargs)\n\u001b[0;32m    591\u001b[0m \u001b[38;5;28;01mreturn\u001b[39;00m resp\n",
            "File \u001b[1;32mc:\\Users\\Spectra\\anaconda3\\Lib\\site-packages\\requests\\sessions.py:703\u001b[0m, in \u001b[0;36mSession.send\u001b[1;34m(self, request, **kwargs)\u001b[0m\n\u001b[0;32m    702\u001b[0m \u001b[38;5;66;03m# Send the request\u001b[39;00m\n\u001b[1;32m--> 703\u001b[0m r \u001b[38;5;241m=\u001b[39m adapter\u001b[38;5;241m.\u001b[39msend(request, \u001b[38;5;241m*\u001b[39m\u001b[38;5;241m*\u001b[39mkwargs)\n\u001b[0;32m    705\u001b[0m \u001b[38;5;66;03m# Total elapsed time of the request (approximately)\u001b[39;00m\n",
            "File \u001b[1;32mc:\\Users\\Spectra\\anaconda3\\Lib\\site-packages\\requests\\adapters.py:510\u001b[0m, in \u001b[0;36mHTTPAdapter.send\u001b[1;34m(self, request, stream, timeout, verify, cert, proxies)\u001b[0m\n\u001b[0;32m    509\u001b[0m \u001b[38;5;28;01mif\u001b[39;00m \u001b[38;5;28misinstance\u001b[39m(e\u001b[38;5;241m.\u001b[39mreason, ResponseError):\n\u001b[1;32m--> 510\u001b[0m     \u001b[38;5;28;01mraise\u001b[39;00m RetryError(e, request\u001b[38;5;241m=\u001b[39mrequest)\n\u001b[0;32m    512\u001b[0m \u001b[38;5;28;01mif\u001b[39;00m \u001b[38;5;28misinstance\u001b[39m(e\u001b[38;5;241m.\u001b[39mreason, _ProxyError):\n",
            "\u001b[1;31mRetryError\u001b[0m: HTTPConnectionPool(host='localhost', port=5000): Max retries exceeded with url: /api/2.0/mlflow-artifacts/artifacts/434808567354833662/9ed5e5e21bf24c1881e420a6d399d680/artifacts/vectorizer.pkl (Caused by ResponseError('too many 500 error responses'))",
            "\nDuring handling of the above exception, another exception occurred:\n",
            "\u001b[1;31mMlflowException\u001b[0m                           Traceback (most recent call last)",
            "Cell \u001b[1;32mIn[23], line 65\u001b[0m\n\u001b[0;32m     63\u001b[0m \u001b[38;5;66;03m# Run Hyperopt optimization\u001b[39;00m\n\u001b[0;32m     64\u001b[0m trials \u001b[38;5;241m=\u001b[39m Trials()\n\u001b[1;32m---> 65\u001b[0m best \u001b[38;5;241m=\u001b[39m fmin(fn\u001b[38;5;241m=\u001b[39mobjective, space\u001b[38;5;241m=\u001b[39mspace, algo\u001b[38;5;241m=\u001b[39mtpe\u001b[38;5;241m.\u001b[39msuggest, max_evals\u001b[38;5;241m=\u001b[39m\u001b[38;5;241m50\u001b[39m, trials\u001b[38;5;241m=\u001b[39mtrials, verbose\u001b[38;5;241m=\u001b[39m\u001b[38;5;241m1\u001b[39m)\n\u001b[0;32m     67\u001b[0m \u001b[38;5;66;03m# Print the best hyperparameters\u001b[39;00m\n\u001b[0;32m     68\u001b[0m \u001b[38;5;28mprint\u001b[39m(\u001b[38;5;124m\"\u001b[39m\u001b[38;5;124mBest Hyperparameters:\u001b[39m\u001b[38;5;124m\"\u001b[39m, best)\n",
            "File \u001b[1;32mc:\\Users\\Spectra\\anaconda3\\Lib\\site-packages\\hyperopt\\fmin.py:540\u001b[0m, in \u001b[0;36mfmin\u001b[1;34m(fn, space, algo, max_evals, timeout, loss_threshold, trials, rstate, allow_trials_fmin, pass_expr_memo_ctrl, catch_eval_exceptions, verbose, return_argmin, points_to_evaluate, max_queue_len, show_progressbar, early_stop_fn, trials_save_file)\u001b[0m\n\u001b[0;32m    537\u001b[0m     fn \u001b[38;5;241m=\u001b[39m __objective_fmin_wrapper(fn)\n\u001b[0;32m    539\u001b[0m \u001b[38;5;28;01mif\u001b[39;00m allow_trials_fmin \u001b[38;5;129;01mand\u001b[39;00m \u001b[38;5;28mhasattr\u001b[39m(trials, \u001b[38;5;124m\"\u001b[39m\u001b[38;5;124mfmin\u001b[39m\u001b[38;5;124m\"\u001b[39m):\n\u001b[1;32m--> 540\u001b[0m     \u001b[38;5;28;01mreturn\u001b[39;00m trials\u001b[38;5;241m.\u001b[39mfmin(\n\u001b[0;32m    541\u001b[0m         fn,\n\u001b[0;32m    542\u001b[0m         space,\n\u001b[0;32m    543\u001b[0m         algo\u001b[38;5;241m=\u001b[39malgo,\n\u001b[0;32m    544\u001b[0m         max_evals\u001b[38;5;241m=\u001b[39mmax_evals,\n\u001b[0;32m    545\u001b[0m         timeout\u001b[38;5;241m=\u001b[39mtimeout,\n\u001b[0;32m    546\u001b[0m         loss_threshold\u001b[38;5;241m=\u001b[39mloss_threshold,\n\u001b[0;32m    547\u001b[0m         max_queue_len\u001b[38;5;241m=\u001b[39mmax_queue_len,\n\u001b[0;32m    548\u001b[0m         rstate\u001b[38;5;241m=\u001b[39mrstate,\n\u001b[0;32m    549\u001b[0m         pass_expr_memo_ctrl\u001b[38;5;241m=\u001b[39mpass_expr_memo_ctrl,\n\u001b[0;32m    550\u001b[0m         verbose\u001b[38;5;241m=\u001b[39mverbose,\n\u001b[0;32m    551\u001b[0m         catch_eval_exceptions\u001b[38;5;241m=\u001b[39mcatch_eval_exceptions,\n\u001b[0;32m    552\u001b[0m         return_argmin\u001b[38;5;241m=\u001b[39mreturn_argmin,\n\u001b[0;32m    553\u001b[0m         show_progressbar\u001b[38;5;241m=\u001b[39mshow_progressbar,\n\u001b[0;32m    554\u001b[0m         early_stop_fn\u001b[38;5;241m=\u001b[39mearly_stop_fn,\n\u001b[0;32m    555\u001b[0m         trials_save_file\u001b[38;5;241m=\u001b[39mtrials_save_file,\n\u001b[0;32m    556\u001b[0m     )\n\u001b[0;32m    558\u001b[0m \u001b[38;5;28;01mif\u001b[39;00m trials \u001b[38;5;129;01mis\u001b[39;00m \u001b[38;5;28;01mNone\u001b[39;00m:\n\u001b[0;32m    559\u001b[0m     \u001b[38;5;28;01mif\u001b[39;00m os\u001b[38;5;241m.\u001b[39mpath\u001b[38;5;241m.\u001b[39mexists(trials_save_file):\n",
            "File \u001b[1;32mc:\\Users\\Spectra\\anaconda3\\Lib\\site-packages\\hyperopt\\base.py:671\u001b[0m, in \u001b[0;36mTrials.fmin\u001b[1;34m(self, fn, space, algo, max_evals, timeout, loss_threshold, max_queue_len, rstate, verbose, pass_expr_memo_ctrl, catch_eval_exceptions, return_argmin, show_progressbar, early_stop_fn, trials_save_file)\u001b[0m\n\u001b[0;32m    666\u001b[0m \u001b[38;5;66;03m# -- Stop-gap implementation!\u001b[39;00m\n\u001b[0;32m    667\u001b[0m \u001b[38;5;66;03m#    fmin should have been a Trials method in the first place\u001b[39;00m\n\u001b[0;32m    668\u001b[0m \u001b[38;5;66;03m#    but for now it's still sitting in another file.\u001b[39;00m\n\u001b[0;32m    669\u001b[0m \u001b[38;5;28;01mfrom\u001b[39;00m \u001b[38;5;21;01m.\u001b[39;00m\u001b[38;5;21;01mfmin\u001b[39;00m \u001b[38;5;28;01mimport\u001b[39;00m fmin\n\u001b[1;32m--> 671\u001b[0m \u001b[38;5;28;01mreturn\u001b[39;00m fmin(\n\u001b[0;32m    672\u001b[0m     fn,\n\u001b[0;32m    673\u001b[0m     space,\n\u001b[0;32m    674\u001b[0m     algo\u001b[38;5;241m=\u001b[39malgo,\n\u001b[0;32m    675\u001b[0m     max_evals\u001b[38;5;241m=\u001b[39mmax_evals,\n\u001b[0;32m    676\u001b[0m     timeout\u001b[38;5;241m=\u001b[39mtimeout,\n\u001b[0;32m    677\u001b[0m     loss_threshold\u001b[38;5;241m=\u001b[39mloss_threshold,\n\u001b[0;32m    678\u001b[0m     trials\u001b[38;5;241m=\u001b[39m\u001b[38;5;28mself\u001b[39m,\n\u001b[0;32m    679\u001b[0m     rstate\u001b[38;5;241m=\u001b[39mrstate,\n\u001b[0;32m    680\u001b[0m     verbose\u001b[38;5;241m=\u001b[39mverbose,\n\u001b[0;32m    681\u001b[0m     max_queue_len\u001b[38;5;241m=\u001b[39mmax_queue_len,\n\u001b[0;32m    682\u001b[0m     allow_trials_fmin\u001b[38;5;241m=\u001b[39m\u001b[38;5;28;01mFalse\u001b[39;00m,  \u001b[38;5;66;03m# -- prevent recursion\u001b[39;00m\n\u001b[0;32m    683\u001b[0m     pass_expr_memo_ctrl\u001b[38;5;241m=\u001b[39mpass_expr_memo_ctrl,\n\u001b[0;32m    684\u001b[0m     catch_eval_exceptions\u001b[38;5;241m=\u001b[39mcatch_eval_exceptions,\n\u001b[0;32m    685\u001b[0m     return_argmin\u001b[38;5;241m=\u001b[39mreturn_argmin,\n\u001b[0;32m    686\u001b[0m     show_progressbar\u001b[38;5;241m=\u001b[39mshow_progressbar,\n\u001b[0;32m    687\u001b[0m     early_stop_fn\u001b[38;5;241m=\u001b[39mearly_stop_fn,\n\u001b[0;32m    688\u001b[0m     trials_save_file\u001b[38;5;241m=\u001b[39mtrials_save_file,\n\u001b[0;32m    689\u001b[0m )\n",
            "File \u001b[1;32mc:\\Users\\Spectra\\anaconda3\\Lib\\site-packages\\hyperopt\\fmin.py:586\u001b[0m, in \u001b[0;36mfmin\u001b[1;34m(fn, space, algo, max_evals, timeout, loss_threshold, trials, rstate, allow_trials_fmin, pass_expr_memo_ctrl, catch_eval_exceptions, verbose, return_argmin, points_to_evaluate, max_queue_len, show_progressbar, early_stop_fn, trials_save_file)\u001b[0m\n\u001b[0;32m    583\u001b[0m rval\u001b[38;5;241m.\u001b[39mcatch_eval_exceptions \u001b[38;5;241m=\u001b[39m catch_eval_exceptions\n\u001b[0;32m    585\u001b[0m \u001b[38;5;66;03m# next line is where the fmin is actually executed\u001b[39;00m\n\u001b[1;32m--> 586\u001b[0m rval\u001b[38;5;241m.\u001b[39mexhaust()\n\u001b[0;32m    588\u001b[0m \u001b[38;5;28;01mif\u001b[39;00m return_argmin:\n\u001b[0;32m    589\u001b[0m     \u001b[38;5;28;01mif\u001b[39;00m \u001b[38;5;28mlen\u001b[39m(trials\u001b[38;5;241m.\u001b[39mtrials) \u001b[38;5;241m==\u001b[39m \u001b[38;5;241m0\u001b[39m:\n",
            "File \u001b[1;32mc:\\Users\\Spectra\\anaconda3\\Lib\\site-packages\\hyperopt\\fmin.py:364\u001b[0m, in \u001b[0;36mFMinIter.exhaust\u001b[1;34m(self)\u001b[0m\n\u001b[0;32m    362\u001b[0m \u001b[38;5;28;01mdef\u001b[39;00m \u001b[38;5;21mexhaust\u001b[39m(\u001b[38;5;28mself\u001b[39m):\n\u001b[0;32m    363\u001b[0m     n_done \u001b[38;5;241m=\u001b[39m \u001b[38;5;28mlen\u001b[39m(\u001b[38;5;28mself\u001b[39m\u001b[38;5;241m.\u001b[39mtrials)\n\u001b[1;32m--> 364\u001b[0m     \u001b[38;5;28mself\u001b[39m\u001b[38;5;241m.\u001b[39mrun(\u001b[38;5;28mself\u001b[39m\u001b[38;5;241m.\u001b[39mmax_evals \u001b[38;5;241m-\u001b[39m n_done, block_until_done\u001b[38;5;241m=\u001b[39m\u001b[38;5;28mself\u001b[39m\u001b[38;5;241m.\u001b[39masynchronous)\n\u001b[0;32m    365\u001b[0m     \u001b[38;5;28mself\u001b[39m\u001b[38;5;241m.\u001b[39mtrials\u001b[38;5;241m.\u001b[39mrefresh()\n\u001b[0;32m    366\u001b[0m     \u001b[38;5;28;01mreturn\u001b[39;00m \u001b[38;5;28mself\u001b[39m\n",
            "File \u001b[1;32mc:\\Users\\Spectra\\anaconda3\\Lib\\site-packages\\hyperopt\\fmin.py:300\u001b[0m, in \u001b[0;36mFMinIter.run\u001b[1;34m(self, N, block_until_done)\u001b[0m\n\u001b[0;32m    297\u001b[0m     time\u001b[38;5;241m.\u001b[39msleep(\u001b[38;5;28mself\u001b[39m\u001b[38;5;241m.\u001b[39mpoll_interval_secs)\n\u001b[0;32m    298\u001b[0m \u001b[38;5;28;01melse\u001b[39;00m:\n\u001b[0;32m    299\u001b[0m     \u001b[38;5;66;03m# -- loop over trials and do the jobs directly\u001b[39;00m\n\u001b[1;32m--> 300\u001b[0m     \u001b[38;5;28mself\u001b[39m\u001b[38;5;241m.\u001b[39mserial_evaluate()\n\u001b[0;32m    302\u001b[0m \u001b[38;5;28mself\u001b[39m\u001b[38;5;241m.\u001b[39mtrials\u001b[38;5;241m.\u001b[39mrefresh()\n\u001b[0;32m    303\u001b[0m \u001b[38;5;28;01mif\u001b[39;00m \u001b[38;5;28mself\u001b[39m\u001b[38;5;241m.\u001b[39mtrials_save_file \u001b[38;5;241m!=\u001b[39m \u001b[38;5;124m\"\u001b[39m\u001b[38;5;124m\"\u001b[39m:\n",
            "File \u001b[1;32mc:\\Users\\Spectra\\anaconda3\\Lib\\site-packages\\hyperopt\\fmin.py:178\u001b[0m, in \u001b[0;36mFMinIter.serial_evaluate\u001b[1;34m(self, N)\u001b[0m\n\u001b[0;32m    176\u001b[0m ctrl \u001b[38;5;241m=\u001b[39m base\u001b[38;5;241m.\u001b[39mCtrl(\u001b[38;5;28mself\u001b[39m\u001b[38;5;241m.\u001b[39mtrials, current_trial\u001b[38;5;241m=\u001b[39mtrial)\n\u001b[0;32m    177\u001b[0m \u001b[38;5;28;01mtry\u001b[39;00m:\n\u001b[1;32m--> 178\u001b[0m     result \u001b[38;5;241m=\u001b[39m \u001b[38;5;28mself\u001b[39m\u001b[38;5;241m.\u001b[39mdomain\u001b[38;5;241m.\u001b[39mevaluate(spec, ctrl)\n\u001b[0;32m    179\u001b[0m \u001b[38;5;28;01mexcept\u001b[39;00m \u001b[38;5;167;01mException\u001b[39;00m \u001b[38;5;28;01mas\u001b[39;00m e:\n\u001b[0;32m    180\u001b[0m     logger\u001b[38;5;241m.\u001b[39merror(\u001b[38;5;124m\"\u001b[39m\u001b[38;5;124mjob exception: \u001b[39m\u001b[38;5;132;01m%s\u001b[39;00m\u001b[38;5;124m\"\u001b[39m \u001b[38;5;241m%\u001b[39m \u001b[38;5;28mstr\u001b[39m(e))\n",
            "File \u001b[1;32mc:\\Users\\Spectra\\anaconda3\\Lib\\site-packages\\hyperopt\\base.py:892\u001b[0m, in \u001b[0;36mDomain.evaluate\u001b[1;34m(self, config, ctrl, attach_attachments)\u001b[0m\n\u001b[0;32m    883\u001b[0m \u001b[38;5;28;01melse\u001b[39;00m:\n\u001b[0;32m    884\u001b[0m     \u001b[38;5;66;03m# -- the \"work\" of evaluating `config` can be written\u001b[39;00m\n\u001b[0;32m    885\u001b[0m     \u001b[38;5;66;03m#    either into the pyll part (self.expr)\u001b[39;00m\n\u001b[0;32m    886\u001b[0m     \u001b[38;5;66;03m#    or the normal Python part (self.fn)\u001b[39;00m\n\u001b[0;32m    887\u001b[0m     pyll_rval \u001b[38;5;241m=\u001b[39m pyll\u001b[38;5;241m.\u001b[39mrec_eval(\n\u001b[0;32m    888\u001b[0m         \u001b[38;5;28mself\u001b[39m\u001b[38;5;241m.\u001b[39mexpr,\n\u001b[0;32m    889\u001b[0m         memo\u001b[38;5;241m=\u001b[39mmemo,\n\u001b[0;32m    890\u001b[0m         print_node_on_error\u001b[38;5;241m=\u001b[39m\u001b[38;5;28mself\u001b[39m\u001b[38;5;241m.\u001b[39mrec_eval_print_node_on_error,\n\u001b[0;32m    891\u001b[0m     )\n\u001b[1;32m--> 892\u001b[0m     rval \u001b[38;5;241m=\u001b[39m \u001b[38;5;28mself\u001b[39m\u001b[38;5;241m.\u001b[39mfn(pyll_rval)\n\u001b[0;32m    894\u001b[0m \u001b[38;5;28;01mif\u001b[39;00m \u001b[38;5;28misinstance\u001b[39m(rval, (\u001b[38;5;28mfloat\u001b[39m, \u001b[38;5;28mint\u001b[39m, np\u001b[38;5;241m.\u001b[39mnumber)):\n\u001b[0;32m    895\u001b[0m     dict_rval \u001b[38;5;241m=\u001b[39m {\u001b[38;5;124m\"\u001b[39m\u001b[38;5;124mloss\u001b[39m\u001b[38;5;124m\"\u001b[39m: \u001b[38;5;28mfloat\u001b[39m(rval), \u001b[38;5;124m\"\u001b[39m\u001b[38;5;124mstatus\u001b[39m\u001b[38;5;124m\"\u001b[39m: STATUS_OK}\n",
            "Cell \u001b[1;32mIn[23], line 24\u001b[0m, in \u001b[0;36mobjective\u001b[1;34m(params)\u001b[0m\n\u001b[0;32m     22\u001b[0m \u001b[38;5;28;01mwith\u001b[39;00m mlflow\u001b[38;5;241m.\u001b[39mstart_run():\n\u001b[0;32m     23\u001b[0m     mlflow\u001b[38;5;241m.\u001b[39mset_tag(\u001b[38;5;124m\"\u001b[39m\u001b[38;5;124mmodel\u001b[39m\u001b[38;5;124m\"\u001b[39m, \u001b[38;5;124m\"\u001b[39m\u001b[38;5;124mlightgbm-classifier\u001b[39m\u001b[38;5;124m\"\u001b[39m)\n\u001b[1;32m---> 24\u001b[0m     mlflow\u001b[38;5;241m.\u001b[39mlog_artifact(\u001b[38;5;124m\"\u001b[39m\u001b[38;5;124mdata/vectorizer.pkl\u001b[39m\u001b[38;5;124m\"\u001b[39m)\n\u001b[0;32m     25\u001b[0m     mlflow\u001b[38;5;241m.\u001b[39mlog_artifact(\u001b[38;5;124m\"\u001b[39m\u001b[38;5;124mdata/sentpiece_model.model\u001b[39m\u001b[38;5;124m\"\u001b[39m)\n\u001b[0;32m     26\u001b[0m     mlflow\u001b[38;5;241m.\u001b[39mlog_params(params)\n",
            "File \u001b[1;32mc:\\Users\\Spectra\\anaconda3\\Lib\\site-packages\\mlflow\\tracking\\fluent.py:996\u001b[0m, in \u001b[0;36mlog_artifact\u001b[1;34m(local_path, artifact_path)\u001b[0m\n\u001b[0;32m    973\u001b[0m \u001b[38;5;250m\u001b[39m\u001b[38;5;124;03m\"\"\"\u001b[39;00m\n\u001b[0;32m    974\u001b[0m \u001b[38;5;124;03mLog a local file or directory as an artifact of the currently active run. If no run is\u001b[39;00m\n\u001b[0;32m    975\u001b[0m \u001b[38;5;124;03mactive, this method will create a new active run.\u001b[39;00m\n\u001b[1;32m   (...)\u001b[0m\n\u001b[0;32m    993\u001b[0m \u001b[38;5;124;03m        mlflow.log_artifact(\"features.txt\")\u001b[39;00m\n\u001b[0;32m    994\u001b[0m \u001b[38;5;124;03m\"\"\"\u001b[39;00m\n\u001b[0;32m    995\u001b[0m run_id \u001b[38;5;241m=\u001b[39m _get_or_start_run()\u001b[38;5;241m.\u001b[39minfo\u001b[38;5;241m.\u001b[39mrun_id\n\u001b[1;32m--> 996\u001b[0m MlflowClient()\u001b[38;5;241m.\u001b[39mlog_artifact(run_id, local_path, artifact_path)\n",
            "File \u001b[1;32mc:\\Users\\Spectra\\anaconda3\\Lib\\site-packages\\mlflow\\tracking\\client.py:1149\u001b[0m, in \u001b[0;36mMlflowClient.log_artifact\u001b[1;34m(self, run_id, local_path, artifact_path)\u001b[0m\n\u001b[0;32m   1114\u001b[0m \u001b[38;5;28;01mdef\u001b[39;00m \u001b[38;5;21mlog_artifact\u001b[39m(\u001b[38;5;28mself\u001b[39m, run_id, local_path, artifact_path\u001b[38;5;241m=\u001b[39m\u001b[38;5;28;01mNone\u001b[39;00m) \u001b[38;5;241m-\u001b[39m\u001b[38;5;241m>\u001b[39m \u001b[38;5;28;01mNone\u001b[39;00m:\n\u001b[0;32m   1115\u001b[0m \u001b[38;5;250m    \u001b[39m\u001b[38;5;124;03m\"\"\"\u001b[39;00m\n\u001b[0;32m   1116\u001b[0m \u001b[38;5;124;03m    Write a local file or directory to the remote ``artifact_uri``.\u001b[39;00m\n\u001b[0;32m   1117\u001b[0m \n\u001b[1;32m   (...)\u001b[0m\n\u001b[0;32m   1147\u001b[0m \u001b[38;5;124;03m        is_dir: False\u001b[39;00m\n\u001b[0;32m   1148\u001b[0m \u001b[38;5;124;03m    \"\"\"\u001b[39;00m\n\u001b[1;32m-> 1149\u001b[0m     \u001b[38;5;28mself\u001b[39m\u001b[38;5;241m.\u001b[39m_tracking_client\u001b[38;5;241m.\u001b[39mlog_artifact(run_id, local_path, artifact_path)\n",
            "File \u001b[1;32mc:\\Users\\Spectra\\anaconda3\\Lib\\site-packages\\mlflow\\tracking\\_tracking_service\\client.py:529\u001b[0m, in \u001b[0;36mTrackingServiceClient.log_artifact\u001b[1;34m(self, run_id, local_path, artifact_path)\u001b[0m\n\u001b[0;32m    527\u001b[0m     artifact_repo\u001b[38;5;241m.\u001b[39mlog_artifacts(local_path, path_name)\n\u001b[0;32m    528\u001b[0m \u001b[38;5;28;01melse\u001b[39;00m:\n\u001b[1;32m--> 529\u001b[0m     artifact_repo\u001b[38;5;241m.\u001b[39mlog_artifact(local_path, artifact_path)\n",
            "File \u001b[1;32mc:\\Users\\Spectra\\anaconda3\\Lib\\site-packages\\mlflow\\store\\artifact\\http_artifact_repo.py:63\u001b[0m, in \u001b[0;36mHttpArtifactRepository.log_artifact\u001b[1;34m(self, local_file, artifact_path)\u001b[0m\n\u001b[0;32m     61\u001b[0m extra_headers \u001b[38;5;241m=\u001b[39m {\u001b[38;5;124m\"\u001b[39m\u001b[38;5;124mContent-Type\u001b[39m\u001b[38;5;124m\"\u001b[39m: mime_type}\n\u001b[0;32m     62\u001b[0m \u001b[38;5;28;01mwith\u001b[39;00m \u001b[38;5;28mopen\u001b[39m(local_file, \u001b[38;5;124m\"\u001b[39m\u001b[38;5;124mrb\u001b[39m\u001b[38;5;124m\"\u001b[39m) \u001b[38;5;28;01mas\u001b[39;00m f:\n\u001b[1;32m---> 63\u001b[0m     resp \u001b[38;5;241m=\u001b[39m http_request(\n\u001b[0;32m     64\u001b[0m         \u001b[38;5;28mself\u001b[39m\u001b[38;5;241m.\u001b[39m_host_creds, endpoint, \u001b[38;5;124m\"\u001b[39m\u001b[38;5;124mPUT\u001b[39m\u001b[38;5;124m\"\u001b[39m, data\u001b[38;5;241m=\u001b[39mf, extra_headers\u001b[38;5;241m=\u001b[39mextra_headers\n\u001b[0;32m     65\u001b[0m     )\n\u001b[0;32m     66\u001b[0m     augmented_raise_for_status(resp)\n",
            "File \u001b[1;32mc:\\Users\\Spectra\\anaconda3\\Lib\\site-packages\\mlflow\\utils\\rest_utils.py:129\u001b[0m, in \u001b[0;36mhttp_request\u001b[1;34m(host_creds, endpoint, method, max_retries, backoff_factor, backoff_jitter, extra_headers, retry_codes, timeout, raise_on_status, **kwargs)\u001b[0m\n\u001b[0;32m    127\u001b[0m     \u001b[38;5;28;01mraise\u001b[39;00m InvalidUrlException(\u001b[38;5;124mf\u001b[39m\u001b[38;5;124m\"\u001b[39m\u001b[38;5;124mInvalid url: \u001b[39m\u001b[38;5;132;01m{\u001b[39;00murl\u001b[38;5;132;01m}\u001b[39;00m\u001b[38;5;124m\"\u001b[39m) \u001b[38;5;28;01mfrom\u001b[39;00m \u001b[38;5;21;01miu\u001b[39;00m\n\u001b[0;32m    128\u001b[0m \u001b[38;5;28;01mexcept\u001b[39;00m \u001b[38;5;167;01mException\u001b[39;00m \u001b[38;5;28;01mas\u001b[39;00m e:\n\u001b[1;32m--> 129\u001b[0m     \u001b[38;5;28;01mraise\u001b[39;00m MlflowException(\u001b[38;5;124mf\u001b[39m\u001b[38;5;124m\"\u001b[39m\u001b[38;5;124mAPI request to \u001b[39m\u001b[38;5;132;01m{\u001b[39;00murl\u001b[38;5;132;01m}\u001b[39;00m\u001b[38;5;124m failed with exception \u001b[39m\u001b[38;5;132;01m{\u001b[39;00me\u001b[38;5;132;01m}\u001b[39;00m\u001b[38;5;124m\"\u001b[39m)\n",
            "\u001b[1;31mMlflowException\u001b[0m: API request to http://localhost:5000/api/2.0/mlflow-artifacts/artifacts/434808567354833662/9ed5e5e21bf24c1881e420a6d399d680/artifacts/vectorizer.pkl failed with exception HTTPConnectionPool(host='localhost', port=5000): Max retries exceeded with url: /api/2.0/mlflow-artifacts/artifacts/434808567354833662/9ed5e5e21bf24c1881e420a6d399d680/artifacts/vectorizer.pkl (Caused by ResponseError('too many 500 error responses'))"
          ]
        }
      ],
      "source": [
        "X_train_hyper, _, y_train_hyper, _ = train_test_split(X_train_main, y_train_main, train_size=0.1, random_state=42)\n",
        "\n",
        "def custom_metric(y_true, y_pred):\n",
        "    # Your custom metric, for example, a combination of ROC-AUC and recall for class 1\n",
        "    roc_auc = roc_auc_score(y_true, y_pred)\n",
        "    recall_class_1 = recall_score(y_true, (y_pred > 0.5).astype(int), pos_label=1)\n",
        "\n",
        "    # You can adjust the weights based on your preference\n",
        "    custom_metric_value = 0.5 * roc_auc + 0.5 * recall_class_1\n",
        "    \n",
        "    return custom_metric_value\n",
        "\n",
        "def custom_metric_for_lgbm(y_true, y_pred):\n",
        "    roc_auc = roc_auc_score(y_true, y_pred)\n",
        "    recall_class_1 = recall_score(y_true, (y_pred > 0.5).astype(int), pos_label=1)\n",
        "    custom_metric_value = 0.5 * roc_auc + 0.5 * recall_class_1\n",
        "    return 'custom', custom_metric_value, True\n",
        "\n",
        "custom_scorer = make_scorer(custom_metric, needs_proba=True)\n",
        "\n",
        "# def objective(params):\n",
        "#     with mlflow.start_run():\n",
        "#         mlflow.set_tag(\"model\", \"lightgbm-classifier\")\n",
        "#         mlflow.log_artifact(\"data/vectorizer.pkl\")\n",
        "#         mlflow.log_artifact(\"data/sentpiece_model.model\")\n",
        "#         mlflow.log_params(params)\n",
        "#         params['objective'] = 'cross_entropy'\n",
        "#         params['metric'] = 'custom'\n",
        "#         params['n_iter'] = 2500\n",
        "#         params['verbose'] = -1\n",
        "#         params['min_data_in_leaf'] = int(params['min_data_in_leaf'])\n",
        "#         params['max_depth'] = int(params['max_depth'])\n",
        "#         params['max_bin'] = int(params['max_bin'])\n",
        "        \n",
        "\n",
        "\n",
        "#         cv = StratifiedKFold(n_splits=5, shuffle=True, random_state=42)\n",
        "#         model = LGBMClassifier(**params)\n",
        "\n",
        "#         scores = cross_val_score(estimator=model, X=X_train_hyper, y=y_train_hyper, cv=cv, scoring=custom_scorer, n_jobs=-1)\n",
        "\n",
        "#         # Take the mean of the custom metric across folds\n",
        "#         mean_score = np.mean(scores)\n",
        "#         mlflow.log_metric(\"roc and recall\", mean_score)\n",
        "\n",
        "#         # Log the model\n",
        "#         artifact_path = \"model\"\n",
        "#         mlflow.lightgbm.log_model(model, artifact_path)\n",
        "       \n",
        "#     return -mean_score\n",
        "#     # Define the search space\n",
        "# space = {\n",
        "#     'learning_rate': hp.uniform('learning_rate', 0.001, 0.1),\n",
        "#     'colsample_bytree': hp.uniform('colsample_bytree', 0.7, 1.0),\n",
        "#     'colsample_bynode': hp.uniform('colsample_bynode', 0.7, 1.0),\n",
        "#     'lambda_l1': hp.uniform('lambda_l1', 0.1, 10),\n",
        "#     'lambda_l2': hp.uniform('lambda_l2', 0.1, 10),\n",
        "#     'min_data_in_leaf': hp.quniform('min_data_in_leaf', 50, 150, 1),\n",
        "#     'max_depth': hp.quniform('max_depth', 10, 30, 1),\n",
        "#     'max_bin': hp.quniform('max_bin', 500, 1000, 1),\n",
        "# }\n",
        "\n",
        "# # Run Hyperopt optimization\n",
        "# trials = Trials()\n",
        "# best = fmin(fn=objective, space=space, algo=tpe.suggest, max_evals=50, trials=trials, verbose=1)\n",
        "\n",
        "# # Print the best hyperparameters\n",
        "# print(\"Best Hyperparameters:\", best)"
      ]
    },
    {
      "cell_type": "code",
      "execution_count": 33,
      "metadata": {},
      "outputs": [
        {
          "name": "stderr",
          "output_type": "stream",
          "text": [
            "c:\\Users\\Spectra\\anaconda3\\Lib\\site-packages\\lightgbm\\engine.py:172: UserWarning: Found `n_iter` in params. Will use it instead of argument\n",
            "  _log_warning(f\"Found `{alias}` in params. Will use it instead of argument\")\n"
          ]
        }
      ],
      "source": [
        "\n",
        "\n",
        "with mlflow.start_run():\n",
        "    params = {'colsample_bynode': 0.891492853612568,\n",
        "          'colsample_bytree': 0.8652279279632024,\n",
        "          'lambda_l1': 0.1497981206936176,\n",
        "          'lambda_l2': 2.5379309743954743,\n",
        "          'learning_rate': 0.04665576114608101,\n",
        "          'max_bin': 984,\n",
        "          'max_depth': 14, \n",
        "          'min_data_in_leaf': 50,\n",
        "          'objective' : 'cross_entropy',\n",
        "          'metric' : 'custom',\n",
        "          'n_iter' : 2500,\n",
        "          'verbose' : -1}\n",
        "    \n",
        "    mlflow.set_tag(\"model\", \"lightgbm-classifier\")\n",
        "    mlflow.log_artifact(\"data/vectorizer.pkl\")\n",
        "    mlflow.log_artifact(\"data/sentpiece_model.model\")\n",
        "    mlflow.log_params(params)\n",
        "        \n",
        "    model = LGBMClassifier(**params)\n",
        "    model.fit(X_train_main, y_train_main)\n",
        "    predictions = model.predict_proba(X_val)[:, 1]\n",
        "    roc = roc_auc_score(y_val, predictions)\n",
        "    custom = custom_metric(y_val, predictions)\n",
        "    mlflow.log_metric(\"roc\", roc)\n",
        "    mlflow.log_metric(\"roc and recall\", custom)\n",
        "    # Log the model\n",
        "    artifact_path = \"model\"\n",
        "    signature = infer_signature(X_train_main, model.predict(X_train_main))\n",
        "    mlflow.lightgbm.log_model(model, artifact_path, signature=signature)"
      ]
    },
    {
      "cell_type": "markdown",
      "metadata": {},
      "source": [
        "**Try out optuna**"
      ]
    },
    {
      "cell_type": "code",
      "execution_count": 36,
      "metadata": {},
      "outputs": [],
      "source": [
        "import optuna"
      ]
    },
    {
      "cell_type": "code",
      "execution_count": 45,
      "metadata": {},
      "outputs": [
        {
          "name": "stderr",
          "output_type": "stream",
          "text": [
            "[I 2024-01-24 10:29:54,542] A new study created in memory with name: no-name-bfc1223f-0249-4072-a704-3ee73f30e644\n",
            "2024/01/24 10:29:56 WARNING mlflow.utils.autologging_utils: You are using an unsupported version of lightgbm. If you encounter errors during autologging, try upgrading / downgrading lightgbm to a supported version, or try upgrading MLflow.\n",
            "[I 2024-01-24 10:36:34,240] Trial 0 finished with value: 0.945172731525088 and parameters: {'min_data_in_leaf': 115, 'max_depth': 22, 'max_bin': 683, 'learning_rate': 0.039635794241083565, 'colsample_bytree': 0.9183151453640777, 'colsample_bynode': 0.7802044674869707, 'lambda_l1': 6.696717439312544, 'lambda_l2': 6.745319601410854}. Best is trial 0 with value: 0.945172731525088.\n",
            "[I 2024-01-24 10:44:26,160] Trial 1 finished with value: 0.9627546986429119 and parameters: {'min_data_in_leaf': 114, 'max_depth': 22, 'max_bin': 731, 'learning_rate': 0.08871870509146462, 'colsample_bytree': 0.8582571636012482, 'colsample_bynode': 0.7233964936426379, 'lambda_l1': 0.5583732630527912, 'lambda_l2': 3.3860155144753}. Best is trial 1 with value: 0.9627546986429119.\n",
            "[I 2024-01-24 10:46:51,925] Trial 2 finished with value: 0.9309545620408372 and parameters: {'min_data_in_leaf': 144, 'max_depth': 22, 'max_bin': 736, 'learning_rate': 0.04069810828368793, 'colsample_bytree': 0.7197248911170503, 'colsample_bynode': 0.8843979912112627, 'lambda_l1': 9.90332967472024, 'lambda_l2': 1.238921839324617}. Best is trial 1 with value: 0.9627546986429119.\n",
            "[I 2024-01-24 10:52:43,428] Trial 3 finished with value: 0.943550451243436 and parameters: {'min_data_in_leaf': 51, 'max_depth': 14, 'max_bin': 655, 'learning_rate': 0.06032870073526967, 'colsample_bytree': 0.9225777975024276, 'colsample_bynode': 0.9735306267721442, 'lambda_l1': 7.860648530680032, 'lambda_l2': 1.7257471421448796}. Best is trial 1 with value: 0.9627546986429119.\n",
            "[I 2024-01-24 10:56:10,527] Trial 4 finished with value: 0.9424095424345353 and parameters: {'min_data_in_leaf': 65, 'max_depth': 16, 'max_bin': 745, 'learning_rate': 0.0866294964944214, 'colsample_bytree': 0.7471647373313782, 'colsample_bynode': 0.8541832759584413, 'lambda_l1': 9.444592819917178, 'lambda_l2': 1.177500454645895}. Best is trial 1 with value: 0.9627546986429119.\n",
            "[I 2024-01-24 11:03:31,681] Trial 5 finished with value: 0.9372026299582302 and parameters: {'min_data_in_leaf': 127, 'max_depth': 15, 'max_bin': 812, 'learning_rate': 0.01365946066904811, 'colsample_bytree': 0.9691182971326591, 'colsample_bynode': 0.7284325801946386, 'lambda_l1': 6.376884106968171, 'lambda_l2': 7.192375978428419}. Best is trial 1 with value: 0.9627546986429119.\n",
            "[I 2024-01-24 11:09:09,997] Trial 6 finished with value: 0.9619038470696853 and parameters: {'min_data_in_leaf': 114, 'max_depth': 10, 'max_bin': 602, 'learning_rate': 0.08216180552250096, 'colsample_bytree': 0.9520129696064279, 'colsample_bynode': 0.7953691472827701, 'lambda_l1': 1.4334376418189543, 'lambda_l2': 0.7760410900696977}. Best is trial 1 with value: 0.9627546986429119.\n",
            "[I 2024-01-24 11:19:41,235] Trial 7 finished with value: 0.9552902314860783 and parameters: {'min_data_in_leaf': 97, 'max_depth': 22, 'max_bin': 879, 'learning_rate': 0.011201092559241947, 'colsample_bytree': 0.9263047937199689, 'colsample_bynode': 0.7175587865064956, 'lambda_l1': 1.9062401487951464, 'lambda_l2': 9.419756867945507}. Best is trial 1 with value: 0.9627546986429119.\n",
            "[I 2024-01-24 11:22:37,413] Trial 8 finished with value: 0.9442050601792313 and parameters: {'min_data_in_leaf': 134, 'max_depth': 24, 'max_bin': 846, 'learning_rate': 0.043670619872419714, 'colsample_bytree': 0.700629465479299, 'colsample_bynode': 0.721104878217553, 'lambda_l1': 6.266205928165308, 'lambda_l2': 4.820325623578356}. Best is trial 1 with value: 0.9627546986429119.\n",
            "[I 2024-01-24 11:29:23,409] Trial 9 finished with value: 0.9661535571042503 and parameters: {'min_data_in_leaf': 59, 'max_depth': 10, 'max_bin': 897, 'learning_rate': 0.059329597812109704, 'colsample_bytree': 0.9145120637026929, 'colsample_bynode': 0.730666503486223, 'lambda_l1': 1.7277959216586352, 'lambda_l2': 6.464359591740458}. Best is trial 9 with value: 0.9661535571042503.\n",
            "[I 2024-01-24 11:33:55,955] Trial 10 finished with value: 0.9610058231849665 and parameters: {'min_data_in_leaf': 81, 'max_depth': 29, 'max_bin': 996, 'learning_rate': 0.06344543260257267, 'colsample_bytree': 0.8264877157083741, 'colsample_bynode': 0.9177011070552994, 'lambda_l1': 3.3705277879554068, 'lambda_l2': 9.75497427660004}. Best is trial 9 with value: 0.9661535571042503.\n",
            "[I 2024-01-24 11:43:10,649] Trial 11 finished with value: 0.967885739659966 and parameters: {'min_data_in_leaf': 91, 'max_depth': 27, 'max_bin': 506, 'learning_rate': 0.09905235144678043, 'colsample_bytree': 0.8511965580395353, 'colsample_bynode': 0.7902229219953608, 'lambda_l1': 0.14610219634567317, 'lambda_l2': 4.036364682104696}. Best is trial 11 with value: 0.967885739659966.\n",
            "[I 2024-01-24 11:47:17,026] Trial 12 finished with value: 0.9614146092584763 and parameters: {'min_data_in_leaf': 79, 'max_depth': 29, 'max_bin': 512, 'learning_rate': 0.09682288772563657, 'colsample_bytree': 0.8529169964876652, 'colsample_bynode': 0.7874095710745938, 'lambda_l1': 3.3290491240659295, 'lambda_l2': 5.369453756566392}. Best is trial 11 with value: 0.967885739659966.\n",
            "[I 2024-01-24 11:58:12,085] Trial 13 finished with value: 0.9741560241062908 and parameters: {'min_data_in_leaf': 51, 'max_depth': 27, 'max_bin': 955, 'learning_rate': 0.07115856639966, 'colsample_bytree': 0.7837527291749466, 'colsample_bynode': 0.813013939694563, 'lambda_l1': 0.33808937182625076, 'lambda_l2': 3.698248675360581}. Best is trial 13 with value: 0.9741560241062908.\n",
            "[I 2024-01-24 12:01:30,566] Trial 14 finished with value: 0.9590252231626237 and parameters: {'min_data_in_leaf': 88, 'max_depth': 26, 'max_bin': 515, 'learning_rate': 0.0738724892221293, 'colsample_bytree': 0.7903455854824646, 'colsample_bynode': 0.8181028710491354, 'lambda_l1': 3.7563897015859, 'lambda_l2': 3.4901552191395373}. Best is trial 13 with value: 0.9741560241062908.\n",
            "[I 2024-01-24 12:08:52,299] Trial 15 finished with value: 0.9714894725536987 and parameters: {'min_data_in_leaf': 71, 'max_depth': 26, 'max_bin': 987, 'learning_rate': 0.09861463850972485, 'colsample_bytree': 0.789975019741799, 'colsample_bynode': 0.8236281551778942, 'lambda_l1': 0.2957053355527566, 'lambda_l2': 2.9357658327565073}. Best is trial 13 with value: 0.9741560241062908.\n",
            "[I 2024-01-24 12:12:59,580] Trial 16 finished with value: 0.9565972507490237 and parameters: {'min_data_in_leaf': 69, 'max_depth': 18, 'max_bin': 996, 'learning_rate': 0.07235654609971838, 'colsample_bytree': 0.767105554757113, 'colsample_bynode': 0.8445388920794404, 'lambda_l1': 4.457824353329984, 'lambda_l2': 2.286119154089083}. Best is trial 13 with value: 0.9741560241062908.\n",
            "[I 2024-01-24 12:19:03,823] Trial 17 finished with value: 0.9654375854043946 and parameters: {'min_data_in_leaf': 51, 'max_depth': 26, 'max_bin': 942, 'learning_rate': 0.0758406741407706, 'colsample_bytree': 0.8047454614482903, 'colsample_bynode': 0.9058613499964006, 'lambda_l1': 2.2738122812795085, 'lambda_l2': 2.695901409756587}. Best is trial 13 with value: 0.9741560241062908.\n",
            "[I 2024-01-24 12:32:01,390] Trial 18 finished with value: 0.9691077665785597 and parameters: {'min_data_in_leaf': 73, 'max_depth': 28, 'max_bin': 933, 'learning_rate': 0.02911238720818298, 'colsample_bytree': 0.7640838760936168, 'colsample_bynode': 0.8355780049023608, 'lambda_l1': 0.8951736429682748, 'lambda_l2': 5.22037496983177}. Best is trial 13 with value: 0.9741560241062908.\n",
            "[I 2024-01-24 12:37:23,040] Trial 19 finished with value: 0.9657920880941976 and parameters: {'min_data_in_leaf': 60, 'max_depth': 25, 'max_bin': 797, 'learning_rate': 0.09114142583711046, 'colsample_bytree': 0.8798797454475388, 'colsample_bynode': 0.7642266740920743, 'lambda_l1': 2.5675555964261894, 'lambda_l2': 0.10669778048845391}. Best is trial 13 with value: 0.9741560241062908.\n",
            "[I 2024-01-24 12:42:07,994] Trial 20 finished with value: 0.9558701695686376 and parameters: {'min_data_in_leaf': 74, 'max_depth': 30, 'max_bin': 943, 'learning_rate': 0.05315549151668245, 'colsample_bytree': 0.8154153156903204, 'colsample_bynode': 0.9729072111951796, 'lambda_l1': 5.276941243068315, 'lambda_l2': 8.020260525813722}. Best is trial 13 with value: 0.9741560241062908.\n",
            "[I 2024-01-24 12:56:13,615] Trial 21 finished with value: 0.969073673691873 and parameters: {'min_data_in_leaf': 61, 'max_depth': 28, 'max_bin': 941, 'learning_rate': 0.02433361619697449, 'colsample_bytree': 0.7661748390678651, 'colsample_bynode': 0.8345533787978474, 'lambda_l1': 0.926939805188101, 'lambda_l2': 5.09947587992806}. Best is trial 13 with value: 0.9741560241062908.\n",
            "[I 2024-01-24 13:07:19,192] Trial 22 finished with value: 0.9682093944085057 and parameters: {'min_data_in_leaf': 72, 'max_depth': 24, 'max_bin': 898, 'learning_rate': 0.024657805366712006, 'colsample_bytree': 0.7495860592575864, 'colsample_bynode': 0.8762812028337685, 'lambda_l1': 1.0019586528567868, 'lambda_l2': 4.423875844875623}. Best is trial 13 with value: 0.9741560241062908.\n",
            "[I 2024-01-24 13:18:17,386] Trial 23 finished with value: 0.9682350664802943 and parameters: {'min_data_in_leaf': 84, 'max_depth': 30, 'max_bin': 959, 'learning_rate': 0.02962212323894969, 'colsample_bytree': 0.7784366600447579, 'colsample_bynode': 0.8086435378447909, 'lambda_l1': 0.20659112162822435, 'lambda_l2': 6.0918271103933535}. Best is trial 13 with value: 0.9741560241062908.\n",
            "[I 2024-01-24 13:23:03,325] Trial 24 finished with value: 0.9640687540058476 and parameters: {'min_data_in_leaf': 55, 'max_depth': 27, 'max_bin': 852, 'learning_rate': 0.06716904128402307, 'colsample_bytree': 0.734932655088158, 'colsample_bynode': 0.757945721159545, 'lambda_l1': 2.705947279681357, 'lambda_l2': 2.9531894620059598}. Best is trial 13 with value: 0.9741560241062908.\n",
            "[I 2024-01-24 13:35:46,034] Trial 25 finished with value: 0.8669862137137437 and parameters: {'min_data_in_leaf': 102, 'max_depth': 20, 'max_bin': 999, 'learning_rate': 0.0011724183964235274, 'colsample_bytree': 0.8251966473886581, 'colsample_bynode': 0.8635565963139356, 'lambda_l1': 1.1859828068865501, 'lambda_l2': 4.049668675551542}. Best is trial 13 with value: 0.9741560241062908.\n",
            "[I 2024-01-24 13:47:44,171] Trial 26 finished with value: 0.971516737255247 and parameters: {'min_data_in_leaf': 66, 'max_depth': 24, 'max_bin': 902, 'learning_rate': 0.047350387409600715, 'colsample_bytree': 0.7924630931422723, 'colsample_bynode': 0.82518337665544, 'lambda_l1': 0.1288887969762692, 'lambda_l2': 5.582988998808979}. Best is trial 13 with value: 0.9741560241062908.\n",
            "[I 2024-01-24 13:55:18,618] Trial 27 finished with value: 0.967111995877047 and parameters: {'min_data_in_leaf': 66, 'max_depth': 24, 'max_bin': 808, 'learning_rate': 0.04649790369250309, 'colsample_bytree': 0.8008913175629365, 'colsample_bynode': 0.818006361294532, 'lambda_l1': 1.7248803204982943, 'lambda_l2': 5.842473574443769}. Best is trial 13 with value: 0.9741560241062908.\n"
          ]
        }
      ],
      "source": [
        "\n",
        "X_train_hyper, _, y_train_hyper, _ = train_test_split(X_train_main, y_train_main, train_size=0.2, random_state=42)\n",
        "\n",
        "def custom_metric(y_true, y_pred):\n",
        "    roc_auc = roc_auc_score(y_true, y_pred)\n",
        "    recall_class_1 = recall_score(y_true, (y_pred > 0.5).astype(int), pos_label=1)\n",
        "    custom_metric_value = 0.5 * roc_auc + 0.5 * recall_class_1\n",
        "    return custom_metric_value\n",
        "\n",
        "def custom_metric_for_lgbm(y_true, y_pred):\n",
        "    roc_auc = roc_auc_score(y_true, y_pred)\n",
        "    recall_class_1 = recall_score(y_true, (y_pred > 0.5).astype(int), pos_label=1)\n",
        "    custom_metric_value = 0.5 * roc_auc + 0.5 * recall_class_1\n",
        "    return 'custom', custom_metric_value, True\n",
        "\n",
        "custom_scorer = make_scorer(custom_metric, needs_proba=True)\n",
        "\n",
        "def objective(trial):\n",
        "    \n",
        "    params = {\n",
        "        'objective': 'cross_entropy',\n",
        "        'metric': 'custom',\n",
        "        'n_iter': 2500,\n",
        "        'verbose': -1,\n",
        "        'min_data_in_leaf': trial.suggest_int('min_data_in_leaf', 50, 150),\n",
        "        'max_depth': trial.suggest_int('max_depth', 10, 30),\n",
        "        'max_bin': trial.suggest_int('max_bin', 500, 1000),\n",
        "        'learning_rate': trial.suggest_float('learning_rate', 0.001, 0.1),\n",
        "        'colsample_bytree': trial.suggest_float('colsample_bytree', 0.7, 1.0),\n",
        "        'colsample_bynode': trial.suggest_float('colsample_bynode', 0.7, 1.0),\n",
        "        'lambda_l1': trial.suggest_float('lambda_l1', 0.1, 10),\n",
        "        'lambda_l2': trial.suggest_float('lambda_l2', 0.1, 10),\n",
        "    }\n",
        "\n",
        "    cv = StratifiedKFold(n_splits=5, shuffle=True, random_state=42)\n",
        "    model = LGBMClassifier(**params)\n",
        "\n",
        "    scores = cross_val_score(estimator=model, X=X_train_hyper, y=y_train_hyper, cv=cv, scoring=custom_scorer, n_jobs=-1)\n",
        "\n",
        "    mean_score = np.mean(scores)\n",
        "\n",
        "    return mean_score\n",
        "\n",
        "# Run Optuna optimization\n",
        "study = optuna.create_study(direction='maximize')\n",
        "with mlflow.start_run():\n",
        "    mlflow.lightgbm.autolog()\n",
        "    study.optimize(objective, n_trials=100)\n",
        "    best_params = study.best_params\n",
        "# Print the best hyperparameters\n",
        "print(\"Best Hyperparameters:\", best_params)\n"
      ]
    },
    {
      "cell_type": "code",
      "execution_count": 1,
      "metadata": {},
      "outputs": [
        {
          "ename": "NameError",
          "evalue": "name 'best_params' is not defined",
          "output_type": "error",
          "traceback": [
            "\u001b[1;31m---------------------------------------------------------------------------\u001b[0m",
            "\u001b[1;31mNameError\u001b[0m                                 Traceback (most recent call last)",
            "Cell \u001b[1;32mIn[1], line 1\u001b[0m\n\u001b[1;32m----> 1\u001b[0m best_params\n",
            "\u001b[1;31mNameError\u001b[0m: name 'best_params' is not defined"
          ]
        }
      ],
      "source": [
        "best_params"
      ]
    },
    {
      "cell_type": "code",
      "execution_count": 22,
      "metadata": {},
      "outputs": [
        {
          "data": {
            "text/plain": [
              "<Experiment: artifact_location='mlflow-artifacts:/318529209653114071', creation_time=1706007893086, experiment_id='318529209653114071', last_update_time=1706007893086, lifecycle_stage='active', name='detect-ai-text', tags={}>"
            ]
          },
          "execution_count": 22,
          "metadata": {},
          "output_type": "execute_result"
        }
      ],
      "source": [
        "mlflow.get_experiment_by_name('detect-ai-text')."
      ]
    },
    {
      "cell_type": "code",
      "execution_count": 25,
      "metadata": {},
      "outputs": [
        {
          "data": {
            "text/plain": [
              "'http://localhost:5000'"
            ]
          },
          "execution_count": 25,
          "metadata": {},
          "output_type": "execute_result"
        }
      ],
      "source": [
        "mlflow.get_tracking_uri()"
      ]
    },
    {
      "cell_type": "code",
      "execution_count": 26,
      "metadata": {},
      "outputs": [],
      "source": [
        "from mlflow.tracking import MlflowClient\n",
        "\n",
        "\n",
        "client = MlflowClient(\"http://localhost:5000\")"
      ]
    },
    {
      "cell_type": "code",
      "execution_count": 27,
      "metadata": {},
      "outputs": [
        {
          "ename": "AttributeError",
          "evalue": "'MlflowClient' object has no attribute 'list_registered_models'",
          "output_type": "error",
          "traceback": [
            "\u001b[1;31m---------------------------------------------------------------------------\u001b[0m",
            "\u001b[1;31mAttributeError\u001b[0m                            Traceback (most recent call last)",
            "Cell \u001b[1;32mIn[27], line 1\u001b[0m\n\u001b[1;32m----> 1\u001b[0m \u001b[43mclient\u001b[49m\u001b[38;5;241;43m.\u001b[39;49m\u001b[43mlist_registered_models\u001b[49m()\n",
            "\u001b[1;31mAttributeError\u001b[0m: 'MlflowClient' object has no attribute 'list_registered_models'"
          ]
        }
      ],
      "source": [
        "client."
      ]
    },
    {
      "cell_type": "code",
      "execution_count": null,
      "metadata": {},
      "outputs": [],
      "source": []
    }
  ],
  "metadata": {
    "colab": {
      "provenance": []
    },
    "kernelspec": {
      "display_name": "Python 3",
      "name": "python3"
    },
    "language_info": {
      "codemirror_mode": {
        "name": "ipython",
        "version": 3
      },
      "file_extension": ".py",
      "mimetype": "text/x-python",
      "name": "python",
      "nbconvert_exporter": "python",
      "pygments_lexer": "ipython3",
      "version": "3.11.5"
    }
  },
  "nbformat": 4,
  "nbformat_minor": 0
}
